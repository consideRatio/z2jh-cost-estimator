{
 "cells": [
  {
   "cell_type": "markdown",
   "metadata": {},
   "source": [
    "## Cost Simulator\n",
    "\n",
    "This notebook estimates the costs of a JupyterHub on an autoscaling k8s cluster on the clouds.\n",
    "\n",
    "Let's get an idea of what is JupyterHub and Kubernetes.\n",
    "\n",
    "- [JupyterHub](https://github.com/jupyterhub/jupyterhub) is a multi-user Hub that spawns, manages, multiple instances of the single-user Jupyter notebook server.\n",
    "- [Kubernetes](https://kubernetes.io/docs/concepts/) (commonly stylized as k8s)\n",
    "is a popular open source platform which allows users to build application services across multiple containers, schedule those containers across a cluster, scale those containers, and manage the health of those containers over time. \n",
    "\n",
    "#### JupyterHub Distribution\n",
    "\n",
    "1. If you need a simple case for a small amount of users (0-100) and single server then use, [The Littlest JupyterHub distribution](https://github.com/jupyterhub/the-littlest-jupyterhub).\n",
    "1. If you need to allow for even more users, a dynamic amount of servers can be used on a cloud, with [The Zero to JupyterHub with Kubernetes](https://z2jh.jupyter.org/en/latest/). \n",
    "    For documentation on deploying JupyterHub on Kubernetes refer to: [Deploy a JupyterHub on Kubernetes](https://github.com/jupyterhub/zero-to-jupyterhub-k8s)\n",
    "\n",
    "We are focussed on estimating the cloud compute costs for a deployment of JupyterHub with Kubernetes so, let's get familiar with Kubernetes terminology for a better understanding of the simulation process:\n",
    "\n",
    "- Node: \n",
    "A node is a single machine with a set of CPU/RAM resources that can be utilized. A cluster in kubernetes is a group of nodes. \n",
    " - Kubernetes will **automatically scale up** your cluster as soon as you need it, and **scale it back down** when you don't need it.\n",
    "- User pod:\n",
    "A Pod is the smallest and simplest unit in the Kubernetes object model that you create or deploy. It represents processes running on your Cluster. \n",
    " - JupyterHub will **automatically delete** any user pods that have no activity for a period of time. This helps free up computational resources and keeps costs down if you are using an autoscaling cluster.\n",
    "\n",
    "#### Input provided to the simulation\n",
    "- Interactive input form  - The user of the simulator is provided with a form to draw the line to show the number of users estimated to use the Jupyterhub hour by hour. The data captured by the line is used to generate the user activity.\n",
    "- Configurations about the Node(memory/CPU), user pod(memory/CPU) and the cost per month.\n",
    "\n",
    "\n",
    "#### Output of the simulation\n",
    "- The data of minute by minute utilization of the cluster.\n",
    "- The information about the scale up/down of the nodes in the cluster.\n"
   ]
  },
  {
   "cell_type": "code",
   "execution_count": null,
   "metadata": {},
   "outputs": [],
   "source": [
    "# autoreload allows us to make changes to the z2jh_cost_simulator package\n",
    "# and workaround a caching of the module, so our changes can be seen.\n",
    "%load_ext autoreload\n",
    "%autoreload 2"
   ]
  },
  {
   "cell_type": "code",
   "execution_count": null,
   "metadata": {},
   "outputs": [],
   "source": [
    "#Import the simulator.py and generate_user_activity.py modules from the z2jh_cost_simulator package\n",
    "from z2jh_cost_simulator import simulator\n",
    "from z2jh_cost_simulator import generate_user_activity"
   ]
  },
  {
   "cell_type": "markdown",
   "metadata": {},
   "source": [
    "## Set the configurations for the simulation.\n",
    "1. Info about a single node pool where users reside\n",
    "    - CPU / Memory, for example 4 CPU cores / 26 GB memory node\n",
    "    - Autoscaling limits, for example 0-5 nodes\n",
    "    - Cost, for example 120 USD / month and node\n",
    "    - Cluster autoscaler details, how long of node inactivity is required(10 minutes) \n",
    "1. Info about the resource requests (guaranteed resources) for the users\n",
    "1. How much time before a user pod is culled by inactivity \n",
    "1. The max lifetime for the user pod before it can be culled down.\n"
   ]
  },
  {
   "cell_type": "code",
   "execution_count": null,
   "metadata": {},
   "outputs": [],
   "source": [
    "import ipywidgets as widgets\n",
    "from ipywidgets import Layout, VBox\n",
    "\n",
    "style_for_widget = {\"description_width\": \"250px\"}\n",
    "layout_for_widget = {\"width\": \"500px\"}\n",
    "box_layout = Layout(border=\"solid\", width=\"600px\")\n",
    "\n",
    "heading = widgets.HTML(value=\"<h3 style=text-align:center;>Select the simulation configuration.</h3>\")\n",
    "max_min_nodes = widgets.IntRangeSlider(min=0, max=10, step=1, description='Number of nodes', value=(1,3), style=style_for_widget, layout=layout_for_widget,)\n",
    "node_cpu        = widgets.IntSlider(min=1, max=16, description=\"Node CPU\", value=4, style=style_for_widget, layout=layout_for_widget,)\n",
    "user_pod_cpu    = widgets.FloatSlider(min=0, max=5, step =.05, value=.04, description=\"User pod CPU\", style=style_for_widget, layout=layout_for_widget,)\n",
    "node_memory     = widgets.FloatSlider(min=0, max=128.0, step =1, value=5.0, description=\"Node Memory(in GB)\", style=style_for_widget, layout=layout_for_widget,)\n",
    "user_pod_memory = widgets.FloatSlider(min=0, max=5000.0, step=64, value=1408, description=\"User pod Memory(in MB)\", style=style_for_widget, layout=layout_for_widget,)\n",
    "cost_per_month  = widgets.FloatSlider(min=0, max=150.0, step=5.5, value=12.8, description=\"Cost per month(in USD)\", style=style_for_widget, layout=layout_for_widget,)\n",
    "node_stop_time  = widgets.IntSlider(min=1, max=100, step=20, value=10, description=\"Node stop time\", style=style_for_widget, layout=layout_for_widget,)\n",
    "pod_culling_max_inactivity_time = widgets.IntSlider(min=0, max=300, step=5, value=60, description=\"Pod culling for inactivity(in min)\", style=style_for_widget, layout=layout_for_widget,)\n",
    "pod_culling_max_lifetime         = widgets.IntSlider(min=0, max=300, step=20, value=0, description=\"Pod culling for max lifetime(in min)\", style=style_for_widget, layout=layout_for_widget,)\n",
    "\n",
    "simulation_configurations = [\n",
    "    heading,\n",
    "    max_min_nodes,\n",
    "    node_cpu,\n",
    "    user_pod_cpu,\n",
    "    node_memory,\n",
    "    user_pod_memory,\n",
    "    cost_per_month,\n",
    "    pod_culling_max_inactivity_time,\n",
    "    pod_culling_max_lifetime,\n",
    "   ]\n",
    "\n",
    "VBox(simulation_configurations, layout=box_layout)"
   ]
  },
  {
   "cell_type": "code",
   "execution_count": null,
   "metadata": {},
   "outputs": [],
   "source": [
    "#The configurations which will be passed to the Simulation object.\n",
    "simulation_configurations = {\n",
    "    'min_nodes'      : max_min_nodes.lower,\n",
    "    'max_nodes'      :max_min_nodes.upper,\n",
    "    'node_cpu'       : node_cpu.value,\n",
    "    'node_memory'    : node_memory.value,\n",
    "    'user_pod_cpu'   :user_pod_cpu.value,\n",
    "    'user_pod_memory':user_pod_memory.value,\n",
    "    'cost_per_month' : cost_per_month.value,\n",
    "    'pod_inactivity_time':pod_culling_max_inactivity_time.value,\n",
    "    'pod_max_lifetime'   :pod_culling_max_lifetime.value,\n",
    "    'node_stop_time' :10,\n",
    "}\n"
   ]
  },
  {
   "cell_type": "markdown",
   "metadata": {},
   "source": [
    "The goal of the interactive input form is to assist the simulator. In a user friendly way, it aims to get an estimate from the user of the `z2jh_cost_simulator`, about for example the maximum users for every given hour during a full day."
   ]
  },
  {
   "cell_type": "code",
   "execution_count": null,
   "metadata": {},
   "outputs": [],
   "source": [
    "from z2jh_cost_simulator.input_form import InteractiveInputForm\n",
    "\n",
    "workweek_day = InteractiveInputForm()\n",
    "weekend_day = InteractiveInputForm()\n",
    "#Draw a line to display the number of users for one work week day.\n",
    "display(workweek_day.get_input_form(\"Maximum number of users per day on a weekday\"))\n",
    "#Draw a line to display the number of users for one week end day.\n",
    "display(weekend_day.get_input_form(\"Maximum number of users per day on a weekend\"))"
   ]
  },
  {
   "cell_type": "code",
   "execution_count": null,
   "metadata": {},
   "outputs": [],
   "source": [
    "#Maximum number of users for every given hour for one week day\n",
    "no_users_on_weekday = workweek_day.get_data().tolist()\n",
    "\n",
    "#Maximum number of users for every given hour for one week-end day\n",
    "no_users_on_weekend = weekend_day.get_data().tolist()\n",
    "\n",
    "hour_wise_users_full_week = []\n",
    "total_users_weekday = []\n",
    "total_users_weekend = []\n",
    "\n",
    "total_users_weekday.extend(no_users_on_weekday * 5) \n",
    "total_users_weekend.extend(no_users_on_weekend * 2)\n",
    "hour_wise_users_full_week = total_users_weekday + total_users_weekend\n",
    "\n",
    "#Generate the user activity based on the hour wise number of users for the full week.\n",
    "user_activity = generate_user_activity.generate_user_activity(hour_wise_users_full_week)"
   ]
  },
  {
   "cell_type": "code",
   "execution_count": null,
   "metadata": {},
   "outputs": [],
   "source": [
    "#Create an object of the Simulation, and pass configurations and the user activity as parameters to the Simulation object.\n",
    "sim = simulator.Simulation(simulation_configurations, user_activity)\n",
    "\n",
    "#The run method runs the simulation for one week.  \n",
    "sim.run()\n",
    "\n",
    "# The simulator returns the node wise utilization information for each minute.\n",
    "cluster_utilization_data = sim.create_utilization_data()\n",
    "\n",
    "# The cost of using the JupyterHub deployment for one week.\n",
    "sim.calculate_cost()"
   ]
  },
  {
   "cell_type": "markdown",
   "metadata": {},
   "source": [
    "## Visualize the simulation\n",
    "Using the information we get after running the simulator, a line chart is plotted.\n",
    "The chart helps in understanding the node utilization for the selected day of the week.\n",
    "A **Slider** widget has been used to select a particular day."
   ]
  },
  {
   "cell_type": "code",
   "execution_count": null,
   "metadata": {},
   "outputs": [],
   "source": [
    "# imports required for the visualization of the simulation\n",
    "import plotly.plotly as py\n",
    "import plotly.graph_objs as go\n",
    "from plotly.offline import download_plotlyjs, init_notebook_mode, plot, iplot\n",
    "from ipywidgets import Layout, VBox\n",
    "\n",
    "widget_style = {\"description_width\": \"initial\"}\n",
    "selected_day = widgets.IntSlider(\n",
    "    min=1, max=7, description=\"Day of the week\", style=widget_style\n",
    ")\n",
    "list_nodes = list(\n",
    "    node for node in cluster_utilization_data.columns if node.find(\"percent\") != -1\n",
    ")\n",
    "data = []\n",
    "for node in list_nodes:\n",
    "    data.append(\n",
    "        go.Scatter(\n",
    "            x=cluster_utilization_data[\"time\"],\n",
    "            y=cluster_utilization_data[node][0:1440],\n",
    "            mode=\"lines\",\n",
    "            name=\"Node\" + str(list_nodes.index(node) + 1),\n",
    "        )\n",
    "    )\n",
    "\n",
    "figure = go.FigureWidget(\n",
    "    data=data,\n",
    "    layout=go.Layout(\n",
    "        title=dict(text=\"Cluster utilization data\"),\n",
    "        xaxis=dict(\n",
    "            title=\"Time in (hours)\",\n",
    "            tickmode=\"array\",\n",
    "            tickangle=45,\n",
    "            tickvals=list(range(0, 1440, 120)),\n",
    "            ticktext=[str(i) + \" hours\" for i in range(0, 24, 2)],\n",
    "        ),\n",
    "        yaxis=dict(title=\"Utilization(%)\", tickformat=\"0%\"),\n",
    "    ),\n",
    ")\n",
    "\n",
    "\n",
    "def response(change):\n",
    "    for node in list_nodes:\n",
    "        data_for_selected_day = cluster_utilization_data[node][\n",
    "            (selected_day.value - 1) * 1440 : selected_day.value * 1440\n",
    "        ]\n",
    "        figure.data[list_nodes.index(node)].y = data_for_selected_day\n",
    "\n",
    "\n",
    "selected_day.observe(response)\n",
    "graph_data = widgets.HBox([selected_day])\n",
    "widgets.VBox([graph_data, figure])"
   ]
  },
  {
   "cell_type": "code",
   "execution_count": null,
   "metadata": {},
   "outputs": [],
   "source": [
    "\n",
    "\n",
    "\n"
   ]
  }
 ],
 "metadata": {
  "kernelspec": {
   "display_name": "Python 3",
   "language": "python",
   "name": "python3"
  }
 },
 "nbformat": 4,
 "nbformat_minor": 2
}
