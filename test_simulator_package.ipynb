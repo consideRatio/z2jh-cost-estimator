{
 "cells": [
  {
   "cell_type": "code",
   "execution_count": null,
   "metadata": {},
   "outputs": [],
   "source": [
    "#some introduction of what is it about ..."
   ]
  },
  {
   "cell_type": "markdown",
   "metadata": {},
   "source": [
    "### The notebook helps you to run a simulation of the cloud compute costs for using an autoscaling Jupyter hub deployment."
   ]
  },
  {
   "cell_type": "code",
   "execution_count": null,
   "metadata": {},
   "outputs": [],
   "source": [
    "# What allows us to make changes to the z2jh_cost_simulator package\n",
    "# and workaround a caching of the module, so our changes can be seen.\n",
    "%load_ext autoreload\n",
    "%autoreload 2"
   ]
  },
  {
   "cell_type": "code",
   "execution_count": null,
   "metadata": {},
   "outputs": [],
   "source": [
    "#Import the simulator.py module from the z2jh_cost_simulator package\n",
    "from z2jh_cost_simulator import simulator\n",
    "from z2jh_cost_simulator import generate_user_activity"
   ]
  },
  {
   "cell_type": "markdown",
   "metadata": {},
   "source": [
    "## Set the configurations for the simulation.\n",
    "1. Info about a single node pool where users reside\n",
    "    - CPU / Memory, for example 4 CPU cores / 26 GB memory node\n",
    "    - Autoscaling limits, for example 0-5 nodes\n",
    "    - Cost, for example 120 USD / month and node\n",
    "    - Cluster autoscaler details, how long of node inactivity is required(10 minutes) \n",
    "1. Info about the resource requests (guaranteed resources) for the users\n",
    "1. How much time before a user pod is culled by inactivity \n",
    "1. The  max lifetime for the user pod before it can be culled down.\n"
   ]
  },
  {
   "cell_type": "code",
   "execution_count": null,
   "metadata": {},
   "outputs": [],
   "source": [
    "import ipywidgets as widgets\n",
    "from ipywidgets import Layout, VBox\n",
    "\n",
    "style_for_widget  = {'description_width': '200px'}\n",
    "layout_for_widget = {'width': '400px'}\n",
    "box_layout        = Layout(\n",
    "                            border='solid',\n",
    "                            width='500px'\n",
    "                          )\n",
    "heading = widgets.HTML(value=\"<b>Select the simulation configuration.</b>\")\n",
    "\n",
    "max_min_nodes = widgets.IntRangeSlider(min=0, max=10, step=1, description='Number of nodes:', value=(1,3), style=style_for_widget, layout=layout_for_widget,)\n",
    "node_cpu        = widgets.IntSlider(min=1, max=16, description=\"Node CPU\", value=4, style=style_for_widget, layout=layout_for_widget,)\n",
    "user_pod_cpu    = widgets.FloatSlider(min=0, max=5, step =.05, value=.04, description=\"User pod CPU\", style=style_for_widget, layout=layout_for_widget,)\n",
    "node_memory     = widgets.FloatSlider(min=0, max=128.0, step =1, value=5.0, description=\"Node Memory(in GB)\", style=style_for_widget, layout=layout_for_widget,)\n",
    "user_pod_memory = widgets.FloatSlider(min=0, max=5000.0, step=64, value=1408, description=\"User pod Memory(in MB)\", style=style_for_widget, layout=layout_for_widget,)\n",
    "cost_per_month  = widgets.FloatSlider(min=0, max=150.0, step=5.5, value=12.8, description=\"Cost per month(in USD)\", style=style_for_widget, layout=layout_for_widget,)\n",
    "node_stop_time  = widgets.IntSlider(min=1, max=100, step=20, value=10, description=\"Node stop time\", style=style_for_widget, layout=layout_for_widget,)\n",
    "pod_culling_max_inactivity_time  = widgets.IntSlider(min=1, max=100, step=5, value=10, description=\"Pod culling for inactivity\", style=style_for_widget, layout=layout_for_widget,)\n",
    "pod_culling_max_lifetime         = widgets.IntSlider(min=0, max=300, step=20, value=40, description=\"Pod culling for max lifetime\", style=style_for_widget, layout=layout_for_widget,)\n",
    "\n",
    "simulation_configurations = [\n",
    "    heading,\n",
    "    max_min_nodes,\n",
    "    node_cpu,\n",
    "    user_pod_cpu,\n",
    "    node_memory,\n",
    "    user_pod_memory,\n",
    "    cost_per_month,\n",
    "    pod_culling_max_inactivity_time,\n",
    "    pod_culling_max_lifetime,\n",
    "    node_stop_time,\n",
    "]\n",
    "\n",
    "VBox(simulation_configurations, layout=box_layout)"
   ]
  },
  {
   "cell_type": "code",
   "execution_count": null,
   "metadata": {},
   "outputs": [],
   "source": [
    "#The configurations which will be passed to the Simulation object.\n",
    "simulation_configurations = {\n",
    "    'min_nodes'   : max_min_nodes.lower,\n",
    "    'max_nodes'   :max_min_nodes.upper,\n",
    "    'node_cpu'    : node_cpu.value,\n",
    "    'node_memory' : node_memory.value,\n",
    "    'user_pod_cpu':user_pod_cpu.value,\n",
    "    'user_pod_memory':user_pod_memory.value,\n",
    "    'cost_per_month': cost_per_month.value,\n",
    "    'pod_inactivity_time':pod_culling_max_inactivity_time.value,\n",
    "    'pod_max_lifetime':pod_culling_max_lifetime.value,\n",
    "    'node_stop_time':node_stop_time.value,\n",
    "}\n"
   ]
  },
  {
   "cell_type": "code",
   "execution_count": null,
   "metadata": {},
   "outputs": [],
   "source": [
    "# Hardcoded test values to be removed later, or replaced with ...\n",
    "# eh... you help me describe this :)\n",
    "# A full weeks worth of input to the user activity generator is provided here.\n",
    "\n",
    "#List of number of users per hour for one weekday.\n",
    "no_users_on_weekday = [2,3,4,2,3,4,5,5,4,5,5,5,5,3,3,3,3,3,4,4,4,4,4,4]\n",
    "#List of number of users per hour for one week-end day.\n",
    "no_users_on_weekend = [2,2,2,2,2,3,3,3,3,3,4,4,4,3,3,3,3,3,5,5,6,6,6,6]  \n",
    "\n",
    "hour_wise_users_full_week = []\n",
    "hour_wise_users_full_week.extend(no_users_on_weekday * 5)  \n",
    "hour_wise_users_full_week.extend(no_users_on_weekend * 2) \n",
    "\n",
    "#Generate a user activity list with the hour_wise_users by calling the generate_user_activity function.\n",
    "user_activity = generate_user_activity.generate_user_activity(hour_wise_users_full_week)\n"
   ]
  },
  {
   "cell_type": "code",
   "execution_count": null,
   "metadata": {},
   "outputs": [],
   "source": [
    "#Create an object of the Simulation, pass the configurations and the user activity to the simulation object.\n",
    "sim = simulator.Simulation(simulation_configurations, user_activity)\n",
    "\n",
    "#The run_simulation logic runs the simulation for one week. \n",
    "# TODO: make the simulator run to the end if stop isn't assigned specifically\n",
    "sim.run(stop=len(hour_wise_users_full_week)*60)\n",
    "\n",
    "# The cluster utilization data stores the node wise utilization information for each minute.\n",
    "cluster_utilization_data = sim.create_utilization_data()"
   ]
  },
  {
   "cell_type": "code",
   "execution_count": null,
   "metadata": {},
   "outputs": [],
   "source": [
    "cluster_utilization_data"
   ]
  },
  {
   "cell_type": "markdown",
   "metadata": {},
   "source": [
    "### The line chart helps you to visualize the utilization of the cluster nodes and the cluster auto scaling for one week."
   ]
  },
  {
   "cell_type": "code",
   "execution_count": null,
   "metadata": {},
   "outputs": [],
   "source": [
    "#imports required for the visualization of the simulation \n",
    "import plotly.plotly as py\n",
    "import plotly.graph_objs as go\n",
    "from plotly.offline import download_plotlyjs, init_notebook_mode , plot, iplot\n",
    "from ipywidgets import Layout, VBox\n",
    "\n",
    "widget_style = {'description_width': 'initial'}\n",
    "selected_day = widgets.IntSlider(min=1, max=7, description=\"Day of the week\", style=widget_style)\n",
    "list_nodes = list(node for node in cluster_utilization_data.columns if node.find('percent') != -1)\n",
    "data = []\n",
    "for node in list_nodes:\n",
    "    data.append(\n",
    "        go.Scatter(\n",
    "                x = cluster_utilization_data['time'],\n",
    "                y = cluster_utilization_data[node],\n",
    "                mode = 'lines',\n",
    "                name = 'Node' + str(list_nodes.index(node)+1)\n",
    "              ))\n",
    "\n",
    "g = go.FigureWidget(data=data,\n",
    "                        layout=go.Layout(\n",
    "                        title=dict(\n",
    "                            text='utilization data'\n",
    "                        ),\n",
    "                       xaxis=dict(\n",
    "                            title      = 'Time in (hours)',\n",
    "                            tickmode   = 'array',\n",
    "                            tickangle  = 45,\n",
    "                            tickvals   = list(range(0,10080,120)),\n",
    "                            ticktext   = [str(i) + \" hours\" for i in range(0,24,2)]\n",
    "                               ),\n",
    "                      yaxis=dict(\n",
    "                        title='utilization(%)'\n",
    "                        ) \n",
    "                    ))\n",
    "\n",
    "\n",
    "\n",
    "def response(change):\n",
    "    for node in list_nodes:\n",
    "        x1 = cluster_utilization_data[node][(selected_day.value-1)*1440:selected_day.value*1440]\n",
    "        g.data[list_nodes.index(node)].y = x1\n",
    "        \n",
    "selected_day.observe(response)\n",
    "container2 = widgets.HBox(\n",
    "                 [\n",
    "                    selected_day\n",
    "                 ]\n",
    "               )\n",
    "widgets.VBox(\n",
    "      [\n",
    "        container2,\n",
    "        g\n",
    "      ]\n",
    "    )\n",
    "\n",
    "\n"
   ]
  },
  {
   "cell_type": "code",
   "execution_count": null,
   "metadata": {},
   "outputs": [],
   "source": []
  }
 ],
 "metadata": {
  "kernelspec": {
   "display_name": "Python 3",
   "language": "python",
   "name": "python3"
  }
 },
 "nbformat": 4,
 "nbformat_minor": 2
}
