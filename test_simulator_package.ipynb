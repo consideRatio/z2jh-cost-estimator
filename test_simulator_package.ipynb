{
 "cells": [
  {
   "cell_type": "code",
   "execution_count": null,
   "metadata": {},
   "outputs": [],
   "source": [
    "# What allows us to make changes to the z2jh_cost_simulator package\n",
    "# and workaround a caching of the module, so our changes can be seen.\n",
    "%load_ext autoreload\n",
    "%autoreload 2\n"
   ]
  },
  {
   "cell_type": "code",
   "execution_count": null,
   "metadata": {},
   "outputs": [],
   "source": [
    "from z2jh_cost_simulator import simulator"
   ]
  },
  {
   "cell_type": "code",
   "execution_count": null,
   "metadata": {},
   "outputs": [],
   "source": [
    "# Now we can work with the simulator object.\n",
    "# It is time to transition the code from the notebook!\n",
    "# Node configuration and other configuration"
   ]
  },
  {
   "cell_type": "code",
   "execution_count": null,
   "metadata": {},
   "outputs": [],
   "source": [
    "import ipywidgets as widgets\n",
    "from ipywidgets import Layout, VBox\n",
    "from IPython.display import display\n",
    "\n",
    "\n",
    "style = {'description_width': 'initial'}\n",
    "box_layout = Layout(border='solid',\n",
    "                    width='50%')\n",
    "\n",
    "\n",
    "heading = widgets.HTML(value=\"<b>Select the simulation configuration.</b>\")\n",
    "max_min_nodes = widgets.IntRangeSlider(min=1,\n",
    "                                      max=10,\n",
    "                                      step=1,\n",
    "                                      description='Number of nodes:',\n",
    "                                      disabled=False,\n",
    "                                      continuous_update=False,\n",
    "                                      orientation='horizontal',\n",
    "                                      readout=True,\n",
    "                                      style=style)\n",
    "node_cpu = widgets.IntSlider(min=1,max=16,description=\"Node CPU\",style=style)\n",
    "node_memory = widgets.FloatSlider(min=10,max=100.0,step =5,description=\"Node Memory(in GB)\",style=style)\n",
    "user_pod_cpu = widgets.FloatSlider(min=0,max=5,step =.01, description=\"User pod CPU\",style=style)\n",
    "user_pod_memory = widgets.FloatSlider(min=0,max=5000.0,step=64,description=\"User pod Memory(in MB)\",style=style)\n",
    "cost_per_month = widgets.FloatSlider(min=0,max=150.0,step=5.5,description=\"Cost per month\",style=style)\n",
    "node_configurations = [heading,max_min_nodes,node_cpu,user_pod_cpu,node_memory,user_pod_memory,cost_per_month]\n",
    "pod_culling_max_inactivity_time = 7\n",
    "pod_culling_max_lifetime = 3\n",
    "VBox(node_configurations,layout = box_layout)"
   ]
  },
  {
   "cell_type": "code",
   "execution_count": null,
   "metadata": {},
   "outputs": [],
   "source": [
    "\n",
    "configurations_for_simulator = {'min_nodes': max_min_nodes.lower,'max_nodes':max_min_nodes.upper,\n",
    "                                'node_cpu': node_cpu.value ,'node_memory': node_memory.value,\n",
    "                                'user_pod_cpu':user_pod_cpu.value,'user_pod_memory': user_pod_memory.value,\n",
    "                                'cost_per_month': cost_per_month.value,\n",
    "                                'pod_inactivity_time':3,\n",
    "                                'pod_max_lifetime':7 }\n",
    "simulator = simulator.Simluation(configurations_for_simulator)\n"
   ]
  },
  {
   "cell_type": "code",
   "execution_count": null,
   "metadata": {},
   "outputs": [],
   "source": [
    "import plotly.plotly as py\n",
    "import plotly.graph_objs as go\n",
    "from plotly.offline import download_plotlyjs, init_notebook_mode , plot, iplot\n",
    "\n",
    "#the user activity\n",
    "\n",
    "user_activity = [[0,1,1,1,1,1,0,0,0,0,0,0,0,0,0,0,0,0,0,0,0,0,0,0,0,0,0,0,0,0,0],\n",
    "                 [0,0,1,1,1,1,1,1,1,0,0,0,0,0,0,0,0,0,0,0,0,0,0,0,0,0,0,0,0,0,0],\n",
    "                 [0,0,0,1,1,1,1,1,0,0,0,1,1,1,0,0,0,0,0,0,0,0,0,0,0,0,0,0,0,0,0],\n",
    "                 [0,0,0,0,1,1,1,1,0,0,0,0,0,0,0,0,1,1,1,1,1,0,0,0,0,0,0,0,0,0,0],\n",
    "                 [0,0,0,0,0,1,1,1,1,1,0,0,0,0,1,1,1,1,1,1,0,0,0,0,0,0,0,0,0,0,0]]\n",
    "\n",
    "simulator = simulator.Simulation(30,user_activity)\n",
    "simulator.run_simulation()\n"
   ]
  },
  {
   "cell_type": "code",
   "execution_count": null,
   "metadata": {},
   "outputs": [],
   "source": []
  }
 ],
 "metadata": {
  "kernelspec": {
   "display_name": "Python 3",
   "language": "python",
   "name": "python3"
  },
  "language_info": {
   "codemirror_mode": {
    "name": "ipython",
    "version": 3
   },
   "file_extension": ".py",
   "mimetype": "text/x-python",
   "name": "python",
   "nbconvert_exporter": "python",
   "pygments_lexer": "ipython3",
   "version": "3.6.7"
  }
 },
 "nbformat": 4,
 "nbformat_minor": 2
}
