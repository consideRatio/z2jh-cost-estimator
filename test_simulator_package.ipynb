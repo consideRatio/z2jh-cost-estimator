{
 "cells": [
  {
   "cell_type": "markdown",
   "metadata": {},
   "source": [
    "### The notebook helps you to run a simulation of the cloud compute costs for using an autoscaling Jupyter hub deployment."
   ]
  },
  {
   "cell_type": "code",
   "execution_count": null,
   "metadata": {},
   "outputs": [],
   "source": [
    "# What allows us to make changes to the z2jh_cost_simulator package\n",
    "# and workaround a caching of the module, so our changes can be seen.\n",
    "%load_ext autoreload\n",
    "%autoreload 2"
   ]
  },
  {
   "cell_type": "code",
   "execution_count": null,
   "metadata": {},
   "outputs": [],
   "source": [
    "#Import the simulator.py module from the z2jh_cost_simulator package\n",
    "from z2jh_cost_simulator import simulator"
   ]
  },
  {
   "cell_type": "markdown",
   "metadata": {},
   "source": [
    "## Set the configurations for the simulation.\n",
    "1. Info about a single node pool where users reside\n",
    "    - CPU / Memory, for example 4 CPU cores / 26 GB memory node\n",
    "    - Autoscaling limits, for example 0-5 nodes\n",
    "    - Cost, for example 120 USD / month and node\n",
    "    - Cluster autoscaler details, how long of node inactivity is required(10 minutes) \n",
    "1. Info about the resource requests (guaranteed resources) for the users\n",
    "1. How much time before a user pod is culled by inactivity \n",
    "1. The  max lifetime for the user pod before it can be culled down.\n"
   ]
  },
  {
   "cell_type": "code",
   "execution_count": null,
   "metadata": {},
   "outputs": [],
   "source": [
    "import ipywidgets as widgets\n",
    "from ipywidgets import Layout, VBox\n",
    "from IPython.display import display\n",
    "\n",
    "\n",
    "style = {'description_width': 'initial'}\n",
    "box_layout = Layout(border='solid',\n",
    "                    width='50%')\n",
    "\n",
    "\n",
    "heading = widgets.HTML(value=\"<b>Select the simulation configuration.</b>\")\n",
    "max_min_nodes = widgets.IntRangeSlider(min=1,\n",
    "                                      max=10,\n",
    "                                      step=1,\n",
    "                                      description='Number of nodes:',\n",
    "                                      disabled=False,\n",
    "                                      continuous_update=False,\n",
    "                                      orientation='horizontal',\n",
    "                                      readout=True,\n",
    "                                      style=style)\n",
    "node_cpu = widgets.IntSlider(min=1,max=16,description=\"Node CPU\",style=style)\n",
    "node_memory = widgets.FloatSlider(min=0,max=128.0,step =1,description=\"Node Memory(in GB)\",style=style)\n",
    "user_pod_cpu = widgets.FloatSlider(min=0,max=5,step =.05, description=\"User pod CPU\",style=style)\n",
    "user_pod_memory = widgets.FloatSlider(min=0,max=5000.0,step=64,description=\"User pod Memory(in MB)\",style=style)\n",
    "cost_per_month = widgets.FloatSlider(min=0,max=150.0,step=5.5,description=\"Cost per month\",style=style)\n",
    "node_configurations = [heading,max_min_nodes,node_cpu,user_pod_cpu,node_memory,user_pod_memory,cost_per_month]\n",
    "pod_culling_max_inactivity_time = 7\n",
    "pod_culling_max_lifetime = 3\n",
    "VBox(node_configurations,layout = box_layout)"
   ]
  },
  {
   "cell_type": "code",
   "execution_count": null,
   "metadata": {},
   "outputs": [],
   "source": [
    "configurations = {'min_nodes': 1,'max_nodes':3,\n",
    "                                'node_cpu': 4 ,'node_memory': 15,\n",
    "                                'user_pod_cpu':.04,'user_pod_memory': 5,\n",
    "                                'cost_per_month': 12.8,\n",
    "                                'pod_inactivity_time':3,\n",
    "                                'pod_max_lifetime':7 ,'node_stop_time':5}\n"
   ]
  },
  {
   "cell_type": "code",
   "execution_count": null,
   "metadata": {},
   "outputs": [],
   "source": [
    "#for one week.\n",
    "user_activity = []\n",
    "for no_users in range(5):\n",
    "    #user_obj = User()\n",
    "    activity = []\n",
    "    user_activity_array = np.array(sorted(np.random.choice([0,1], size=40, p=[.4, .6])))\n",
    "    for i in range(5):\n",
    "        activity = np.concatenate((activity,user_activity_array),axis=None)\n",
    "    user_activity.append(activity)"
   ]
  },
  {
   "cell_type": "code",
   "execution_count": null,
   "metadata": {},
   "outputs": [],
   "source": [
    "#imports required for the visualization of the simulation\n",
    "import plotly.plotly as py\n",
    "import plotly.graph_objs as go\n",
    "from plotly.offline import download_plotlyjs, init_notebook_mode , plot, iplot\n",
    "\n",
    "#create an object of the Simulation, pass the configurations and the user activity to the simulation.\n",
    "sim = simulator.Simulation(configurations,user_activity)\n",
    "\n",
    "#The run_simulation logic runs the simulation for one week. \n",
    "sim.run_simulation(stop=200)\n",
    "cluster_utilization_data = sim.create_utilization_data()"
   ]
  },
  {
   "cell_type": "code",
   "execution_count": null,
   "metadata": {},
   "outputs": [],
   "source": [
    "cluster_utilization_data"
   ]
  },
  {
   "cell_type": "markdown",
   "metadata": {},
   "source": [
    "### The line chart helps you to visualize the utilization of the cluster nodes and the cluster auto scaling for the simulation time."
   ]
  },
  {
   "cell_type": "code",
   "execution_count": null,
   "metadata": {},
   "outputs": [],
   "source": [
    "import re  \n",
    "import plotly.plotly as py\n",
    "import plotly.graph_objs as go\n",
    "from plotly.offline import download_plotlyjs, init_notebook_mode , plot, iplot\n",
    "import ipywidgets as widgets\n",
    "from ipywidgets import Layout, VBox\n",
    "\n",
    "time = widgets.Dropdown(\n",
    "        options=list(['200 min','40 min','60 min']),\n",
    "        description='Time interval:',style = {'description_width': 'initial'}\n",
    "                       )\n",
    "time_to_numeric = {'200 min': 200,'40 min':40,\n",
    "                                '60 min': 60 \n",
    "                }\n",
    "list_cols = list(col for col in cluster_utilization_data.columns if col.find('percent') != -1)\n",
    "data = []\n",
    "for l in list_cols:\n",
    "    data.append(\n",
    "        go.Scatter(\n",
    "                x = cluster_utilization_data['time'],\n",
    "                y = cluster_utilization_data[l],\n",
    "                mode = 'lines',\n",
    "                name = 'Node' + str(list_cols.index(l)+1)\n",
    "                         ))\n",
    "\n",
    "g = go.FigureWidget(data=data,\n",
    "                    layout=go.Layout(\n",
    "                        title=dict(\n",
    "                            text='utilization data'\n",
    "                        ),\n",
    "                       xaxis=dict(\n",
    "                            title='time in minutes',\n",
    "                            tickmode='linear',\n",
    "                            tick0=0,\n",
    "                            dtick=1\n",
    "                        ),\n",
    "                      yaxis=dict(\n",
    "                        title='utilization(%)'\n",
    "                        ) \n",
    "                    ))\n",
    "\n",
    "def response(change):\n",
    "    #time_selected = pd.to_numeric(re.findall('\\\\d+', time.value))\n",
    "    time_selected = time_to_numeric[time.value]\n",
    "    for l in list_cols:\n",
    "       # x1 = cluster_utilization_data[l][0:time_selected[0]]\n",
    "        x1 = cluster_utilization_data[l][0:time_selected]\n",
    "        g.data[list_cols.index(l)].y = x1\n",
    "time.observe(response)\n",
    "container2 = widgets.HBox([time])\n",
    "widgets.VBox([\n",
    "            container2,g\n",
    "                    ])       "
   ]
  },
  {
   "cell_type": "code",
   "execution_count": null,
   "metadata": {},
   "outputs": [],
   "source": []
  }
 ],
 "metadata": {
  "kernelspec": {
   "display_name": "Python 3",
   "language": "python",
   "name": "python3"
  },
  "language_info": {
   "codemirror_mode": {
    "name": "ipython",
    "version": 3
   },
   "file_extension": ".py",
   "mimetype": "text/x-python",
   "name": "python",
   "nbconvert_exporter": "python",
   "pygments_lexer": "ipython3",
   "version": "3.6.7"
  }
 },
 "nbformat": 4,
 "nbformat_minor": 2
}
